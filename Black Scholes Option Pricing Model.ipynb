{
 "cells": [
  {
   "cell_type": "markdown",
   "id": "66ca263e",
   "metadata": {},
   "source": [
    "# Black Scholes Model"
   ]
  },
  {
   "cell_type": "markdown",
   "id": "bdd0cdf2",
   "metadata": {},
   "source": [
    "In the world of finance, the Black-Scholes-Merton model stands out as a pivotal tool for pricing options. Lets create the Black Scholes model in Python. Developed through rigorous mathematical derivations, this model calculates the theoretical value of an option based on five essential parameters:\n",
    "\n",
    "\n",
    "\n",
    "Underlying Price (S): The current market price of the asset.\n",
    "\n",
    "\n",
    "Strike Price (K): The predetermined price at which the option can be exercised.\n",
    "\n",
    "\n",
    "Time to Expiration (T): The time left (in years) until the option’s expiration date.\n",
    "\n",
    "\n",
    "Risk Free Rate (r): The constant rate of return on a risk-free asset, such as a government bond.\n",
    "\n",
    "\n",
    "Volatility (σ): A measure of how much the price of the underlying asset fluctuates.\n",
    "\n",
    "\n",
    "\n",
    "With these components in mind, let’s dive into the implementation in Python:"
   ]
  },
  {
   "cell_type": "code",
   "execution_count": 1,
   "id": "674084ca",
   "metadata": {},
   "outputs": [],
   "source": [
    "#Step 1: Import Necessary Libraries\n",
    "import math\n",
    "from scipy.stats import norm"
   ]
  },
  {
   "cell_type": "code",
   "execution_count": 2,
   "id": "675b2db3",
   "metadata": {},
   "outputs": [],
   "source": [
    "#Step 2: Define the Variables\n",
    "S = 45  # Underlying Price\n",
    "K = 40  # Strike Price\n",
    "T = 2   # Time to Expiration\n",
    "r = 0.1 # Risk-Free Rate\n",
    "vol = 0.1 # Volatility (σ)"
   ]
  },
  {
   "cell_type": "code",
   "execution_count": 3,
   "id": "f35568c3",
   "metadata": {},
   "outputs": [],
   "source": [
    "#Step 3: Calculate d1\n",
    "#With our variables set, we first compute d1, a crucial intermediary value:\n",
    "\n",
    "d1 = (math.log(S/K) + (r + 0.5 * vol**2)*T ) / (vol * math.sqrt(T))"
   ]
  },
  {
   "cell_type": "code",
   "execution_count": 4,
   "id": "677db26b",
   "metadata": {},
   "outputs": [],
   "source": [
    "#Step 4: Calculate d2\n",
    "#Subsequently, we derive d2:\n",
    "\n",
    "d2 = d1 - (vol * math.sqrt(T))"
   ]
  },
  {
   "cell_type": "code",
   "execution_count": 5,
   "id": "da19bb26",
   "metadata": {},
   "outputs": [],
   "source": [
    "#Step 5: Calculate Call Option Price\n",
    "#To determine the theoretical price of a call option:\n",
    "\n",
    "C = S * norm.cdf(d1) - K * math.exp(-r * T) * norm.cdf(d2)"
   ]
  },
  {
   "cell_type": "code",
   "execution_count": 6,
   "id": "0fcccb87",
   "metadata": {},
   "outputs": [],
   "source": [
    "#Step 6: Calculate Put Option Price\n",
    "#For the put option:\n",
    "\n",
    "P = K * math.exp(-r * T) * norm.cdf(-d2) - S * norm.cdf(-d1)"
   ]
  },
  {
   "cell_type": "code",
   "execution_count": 7,
   "id": "818da7a6",
   "metadata": {},
   "outputs": [
    {
     "name": "stdout",
     "output_type": "stream",
     "text": [
      "The value of d1 is:  2.3178\n",
      "The value of d2 is:  2.1764\n",
      "The price of the call option is: $ 12.27\n",
      "The price of the put option is: $ 0.02\n"
     ]
    }
   ],
   "source": [
    "#Step 7: Print the Results\n",
    "print('The value of d1 is: ', round(d1, 4))\n",
    "print('The value of d2 is: ', round(d2, 4))\n",
    "print('The price of the call option is: $', round(C, 2))\n",
    "print('The price of the put option is: $', round(P, 2))"
   ]
  },
  {
   "cell_type": "markdown",
   "id": "33c940e4",
   "metadata": {},
   "source": [
    "If we increase S or T or Volatility, then both Call and Put options would be more valuable as \n",
    "both would have more chances to expire ITM. So, S,T and Vol have positive correlation with both the options."
   ]
  }
 ],
 "metadata": {
  "kernelspec": {
   "display_name": "Python 3 (ipykernel)",
   "language": "python",
   "name": "python3"
  },
  "language_info": {
   "codemirror_mode": {
    "name": "ipython",
    "version": 3
   },
   "file_extension": ".py",
   "mimetype": "text/x-python",
   "name": "python",
   "nbconvert_exporter": "python",
   "pygments_lexer": "ipython3",
   "version": "3.9.7"
  }
 },
 "nbformat": 4,
 "nbformat_minor": 5
}
