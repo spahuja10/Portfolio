{
 "cells": [
  {
   "cell_type": "markdown",
   "id": "2c13a8d0",
   "metadata": {},
   "source": [
    "# Value at Risk\n"
   ]
  },
  {
   "cell_type": "markdown",
   "id": "e998aee5",
   "metadata": {},
   "source": [
    "The potential loss in the value of a risky portfolio/asset given:\n",
    "1. A specified time period\n",
    "2. A confidence level\n",
    "Methods to calculate VaR: \n",
    "a) Parametric Method:The parametric method calculates VaR by assuming returns \n",
    "follow a specific probability distribution (typically normal) and using the mean and\n",
    "standard deviation of historical returns to estimate potential losses at a given \n",
    "confidence level.\n",
    "b) Historical Method: It calculates VaR by using actual hitorical returns of an asset \n",
    "or portfolio,ranking these returns from worst to best, and selecting the loss at the desired\n",
    "percentile as the VaR estimate.\n",
    "c) Monte Carlo Simulation: It simulates numerours potential future price paths.\n",
    "Based on asset's statistical properties(mu,sd).\n",
    "Typically involves thousand of simulations.\n",
    "Calculates potential losses for each simulation.\n",
    "VaR is derived from the distribution of simulated losses."
   ]
  },
  {
   "cell_type": "markdown",
   "id": "02a9cc60",
   "metadata": {},
   "source": [
    "# 1)Parametric Method"
   ]
  },
  {
   "cell_type": "code",
   "execution_count": 1,
   "id": "b31a4c4c",
   "metadata": {},
   "outputs": [],
   "source": [
    "#import necessary libraries\n",
    "import numpy as np\n",
    "import pandas as pd\n",
    "import datetime as dt\n",
    "import yfinance as yf\n",
    "import matplotlib.pyplot as plt\n",
    "from scipy.stats import norm"
   ]
  },
  {
   "cell_type": "code",
   "execution_count": 12,
   "id": "55a3bac2",
   "metadata": {},
   "outputs": [],
   "source": [
    "#set time from to a certain number of years\n",
    "years = 15\n",
    "endDate = dt.datetime.now()\n",
    "startDate = endDate - dt.timedelta(days=365*years)"
   ]
  },
  {
   "cell_type": "code",
   "execution_count": 13,
   "id": "f0b2f254",
   "metadata": {},
   "outputs": [],
   "source": [
    "#Create a list of tickers\n",
    "tickers = ['SPY', 'BND', 'GLD', 'QQQ', 'VTI']"
   ]
  },
  {
   "cell_type": "code",
   "execution_count": 15,
   "id": "a9ffe405",
   "metadata": {},
   "outputs": [
    {
     "name": "stderr",
     "output_type": "stream",
     "text": [
      "C:\\Users\\DIVYAP~1\\AppData\\Local\\Temp/ipykernel_10152/469122282.py:4: FutureWarning: YF.download() has changed argument auto_adjust default to True\n",
      "  data = yf.download(ticker, start=startDate, end=endDate)\n",
      "[*********************100%***********************]  1 of 1 completed\n",
      "C:\\Users\\DIVYAP~1\\AppData\\Local\\Temp/ipykernel_10152/469122282.py:4: FutureWarning: YF.download() has changed argument auto_adjust default to True\n",
      "  data = yf.download(ticker, start=startDate, end=endDate)\n",
      "[*********************100%***********************]  1 of 1 completed\n",
      "C:\\Users\\DIVYAP~1\\AppData\\Local\\Temp/ipykernel_10152/469122282.py:4: FutureWarning: YF.download() has changed argument auto_adjust default to True\n",
      "  data = yf.download(ticker, start=startDate, end=endDate)\n",
      "[*********************100%***********************]  1 of 1 completed\n",
      "C:\\Users\\DIVYAP~1\\AppData\\Local\\Temp/ipykernel_10152/469122282.py:4: FutureWarning: YF.download() has changed argument auto_adjust default to True\n",
      "  data = yf.download(ticker, start=startDate, end=endDate)\n",
      "[*********************100%***********************]  1 of 1 completed\n",
      "C:\\Users\\DIVYAP~1\\AppData\\Local\\Temp/ipykernel_10152/469122282.py:4: FutureWarning: YF.download() has changed argument auto_adjust default to True\n",
      "  data = yf.download(ticker, start=startDate, end=endDate)\n",
      "[*********************100%***********************]  1 of 1 completed\n"
     ]
    }
   ],
   "source": [
    "#Download the daily adjusted close prices for the tickers\n",
    "adj_close_df = pd.DataFrame()\n",
    "for ticker in tickers:\n",
    "    data = yf.download(ticker, start=startDate, end=endDate)\n",
    "    adj_close_df[ticker] = data['Close']\n",
    "\n",
    "log_returns = np.log(adj_close_df / adj_close_df.shift(1))\n",
    "log_returns = log_returns.dropna()"
   ]
  },
  {
   "cell_type": "code",
   "execution_count": 16,
   "id": "eac2d8b8",
   "metadata": {},
   "outputs": [
    {
     "name": "stdout",
     "output_type": "stream",
     "text": [
      "                   SPY        BND         GLD         QQQ         VTI\n",
      "Date                                                                 \n",
      "2010-07-26   84.928856  53.044559  115.519997   40.657558   43.571026\n",
      "2010-07-27   84.921219  53.018501  113.510002   40.640045   43.517464\n",
      "2010-07-28   84.373108  53.109577  113.779999   40.316109   43.211437\n",
      "2010-07-29   83.961990  53.168129  114.290001   40.018456   42.989559\n",
      "2010-07-30   83.946793  53.246231  115.489998   40.105995   43.035465\n",
      "...                ...        ...         ...         ...         ...\n",
      "2025-07-14  624.809998  72.790001  308.010010  556.210022  307.720001\n",
      "2025-07-15  622.140015  72.570000  306.730011  556.719971  306.100006\n",
      "2025-07-16  624.219971  72.709999  308.260010  557.289978  307.260010\n",
      "2025-07-17  628.039978  72.730003  307.589996  561.799988  309.260010\n",
      "2025-07-18  627.580017  72.849998  308.390015  561.260010  309.089996\n",
      "\n",
      "[3769 rows x 5 columns]\n"
     ]
    }
   ],
   "source": [
    "print(adj_close_df)"
   ]
  },
  {
   "cell_type": "markdown",
   "id": "74f1b61f",
   "metadata": {},
   "source": [
    "#Calculate the daily log returns\n",
    "\"\"\"\"Log returns are better than simple returns as they are additive and \n",
    "if we want to calculate the anualized returns it would be easy to work with\"\"\"\"\n"
   ]
  },
  {
   "cell_type": "code",
   "execution_count": 18,
   "id": "fe4e6b98",
   "metadata": {},
   "outputs": [
    {
     "name": "stdout",
     "output_type": "stream",
     "text": [
      "                 SPY       BND       GLD       QQQ       VTI\n",
      "Date                                                        \n",
      "2010-07-27 -0.000090 -0.000491 -0.017553 -0.000431 -0.001230\n",
      "2010-07-28 -0.006475  0.001716  0.002376 -0.008003 -0.007057\n",
      "2010-07-29 -0.004885  0.001102  0.004472 -0.007410 -0.005148\n",
      "2010-07-30 -0.000181  0.001468  0.010445  0.002185  0.001067\n",
      "2010-08-02  0.022330 -0.000222  0.000433  0.018599  0.021283\n",
      "...              ...       ...       ...       ...       ...\n",
      "2025-07-14  0.001906 -0.000137 -0.003662  0.003620  0.002277\n",
      "2025-07-15 -0.004282 -0.003027 -0.004164  0.000916 -0.005278\n",
      "2025-07-16  0.003338  0.001927  0.004976  0.001023  0.003782\n",
      "2025-07-17  0.006101  0.000275 -0.002176  0.008060  0.006488\n",
      "2025-07-18 -0.000733  0.001649  0.002598 -0.000962 -0.000550\n",
      "\n",
      "[3768 rows x 5 columns]\n"
     ]
    }
   ],
   "source": [
    "log_returns = np.log(adj_close_df/adj_close_df.shift(1))\n",
    "log_returns = log_returns.dropna()\n",
    "\n",
    "print(log_returns)"
   ]
  },
  {
   "cell_type": "code",
   "execution_count": 19,
   "id": "981e325e",
   "metadata": {},
   "outputs": [
    {
     "name": "stdout",
     "output_type": "stream",
     "text": [
      "[0.2 0.2 0.2 0.2 0.2]\n"
     ]
    }
   ],
   "source": [
    "#Create an equally weighted portfolio\n",
    "portfolio_value = 1000000\n",
    "weights = np.array([1/len(tickers)]*len(tickers))\n",
    "print(weights)"
   ]
  },
  {
   "cell_type": "code",
   "execution_count": 20,
   "id": "62210b69",
   "metadata": {},
   "outputs": [
    {
     "name": "stdout",
     "output_type": "stream",
     "text": [
      "Date\n",
      "2010-07-27   -0.003959\n",
      "2010-07-28   -0.003489\n",
      "2010-07-29   -0.002374\n",
      "2010-07-30    0.002997\n",
      "2010-08-02    0.012485\n",
      "                ...   \n",
      "2025-07-14    0.000801\n",
      "2025-07-15   -0.003167\n",
      "2025-07-16    0.003009\n",
      "2025-07-17    0.003750\n",
      "2025-07-18    0.000400\n",
      "Length: 3768, dtype: float64\n"
     ]
    }
   ],
   "source": [
    "#Calculate the historical portfolio returns\n",
    "historical_returns = (log_returns * weights).sum(axis =1)\n",
    "print(historical_returns)"
   ]
  },
  {
   "cell_type": "code",
   "execution_count": 22,
   "id": "f726acc2",
   "metadata": {},
   "outputs": [],
   "source": [
    "#Find the X-day historical returns\n",
    "days = 5\n",
    "\n",
    "#5 day rolling returns\n",
    "historical_x_day_returns = historical_returns.rolling(window = days).sum()"
   ]
  },
  {
   "cell_type": "code",
   "execution_count": 23,
   "id": "156eaf0d",
   "metadata": {},
   "outputs": [],
   "source": [
    "#Create a covariance matrix for all the securities\n",
    "cov_matrix = log_returns.cov()*252"
   ]
  },
  {
   "cell_type": "code",
   "execution_count": 24,
   "id": "32d02c70",
   "metadata": {},
   "outputs": [],
   "source": [
    "#Calculate portfolio SD\n",
    "portfolio_std_dev = np.sqrt(weights.T @ cov_matrix @ weights)"
   ]
  },
  {
   "cell_type": "code",
   "execution_count": 26,
   "id": "97aeb1c5",
   "metadata": {},
   "outputs": [],
   "source": [
    "#Set different confidence levels to visualize\n",
    "confidence_levels = [0.90,0.95,0.99]"
   ]
  },
  {
   "cell_type": "code",
   "execution_count": 27,
   "id": "fc6ddd37",
   "metadata": {},
   "outputs": [],
   "source": [
    "#Calculate VaR at different condidence levels\n",
    "VaRs = []\n",
    "\n",
    "for cl in confidence_levels:\n",
    "    VaR = portfolio_value * portfolio_std_dev * norm.ppf(cl)*np.sqrt(days/252)\n",
    "    VaRs.append(VaR)"
   ]
  },
  {
   "cell_type": "code",
   "execution_count": 29,
   "id": "f3064a5e",
   "metadata": {},
   "outputs": [
    {
     "name": "stdout",
     "output_type": "stream",
     "text": [
      "Confidence Level     Value at Risk       \n",
      "----------------------------------------\n",
      "    90%:          $ 21,075.53\n",
      "    95%:          $ 27,050.15\n",
      "    99%:          $ 38,257.54\n"
     ]
    }
   ],
   "source": [
    "#Print out the VaR results\n",
    "print(f'{\"Confidence Level\" :<20} {\"Value at Risk\" :<20}')\n",
    "print('-' * 40)\n",
    "\n",
    "#Print each confidence level and its corresponding VaR value\n",
    "for cl, VaR in zip(confidence_levels, VaRs):\n",
    "    print(f'{cl * 100:>6.0f}%: {\"\":<8} ${VaR:>10,.2f}')\n",
    "      "
   ]
  },
  {
   "cell_type": "code",
   "execution_count": 30,
   "id": "b9756792",
   "metadata": {},
   "outputs": [
    {
     "data": {
      "image/png": "[encoded data removed]",
      "text/plain": [
       "<Figure size 432x288 with 1 Axes>"
      ]
     },
     "metadata": {
      "needs_background": "light"
     },
     "output_type": "display_data"
    }
   ],
   "source": [
    "#Plot the Distribution of Portfolio Returns and Parametric VaR Estimates\n",
    "# Convert returns to dollar values for the histogram\n",
    "historical_x_day_returns_dollar = historical_x_day_returns * portfolio_value\n",
    "\n",
    "# Plot the histogram\n",
    "plt.hist(historical_x_day_returns_dollar, bins=50, density=True, alpha=0.5, label=f'{days}-Day Returns')\n",
    "\n",
    "# Add vertical lines representing VaR at each confidence level\n",
    "for cl, VaR in zip(confidence_levels, VaRs):\n",
    "    plt.axvline(x=-VaR, linestyle='--', color='r', label='VaR at {}% Confidence'.format(int(cl * 100)))\n",
    "\n",
    "plt.xlabel(f'{days}-Day Portfolio Return ($)')\n",
    "plt.ylabel('Frequency')\n",
    "plt.title(f'Distribution of Portfolio {days}-Day Returns and Parametric VaR Estimates')\n",
    "plt.legend()\n",
    "plt.show()"
   ]
  },
  {
   "cell_type": "markdown",
   "id": "79451bc4",
   "metadata": {},
   "source": [
    "# 2) Monte Carlo Method"
   ]
  },
  {
   "cell_type": "markdown",
   "id": "38dae91d",
   "metadata": {},
   "source": [
    "'''using the log returns and weights calculated above define expected returns''''\n",
    "*We are assuming that future returns are based on past returns, which is not a reliable assumption."
   ]
  },
  {
   "cell_type": "code",
   "execution_count": 32,
   "id": "c8cb5885",
   "metadata": {},
   "outputs": [],
   "source": [
    "def expected_return(weights, log_returns):\n",
    "    return np.sum(log_returns.mean()*weights)\n",
    "\n",
    "### Create a function that will be used to calculate portfolio standard deviation\n",
    "def standard_deviation (weights, cov_matrix):\n",
    "    variance = weights.T @ cov_matrix @ weights\n",
    "    return np.sqrt(variance)"
   ]
  },
  {
   "cell_type": "code",
   "execution_count": 33,
   "id": "ce21df65",
   "metadata": {},
   "outputs": [
    {
     "name": "stdout",
     "output_type": "stream",
     "text": [
      "              SPY           BND       GLD       QQQ           VTI\n",
      "SPY  1.182798e-04  7.819971e-07  0.000005  0.000132  1.204661e-04\n",
      "BND  7.819971e-07  9.604571e-06  0.000009  0.000002  9.888446e-07\n",
      "GLD  4.910234e-06  9.127213e-06  0.000097  0.000006  5.410013e-06\n",
      "QQQ  1.324177e-04  1.567122e-06  0.000006  0.000171  1.348642e-04\n",
      "VTI  1.204661e-04  9.888446e-07  0.000005  0.000135  1.236569e-04\n"
     ]
    }
   ],
   "source": [
    "### Create a covariance matrix for all the securities\n",
    "cov_matrix = log_returns.cov()\n",
    "print(cov_matrix)"
   ]
  },
  {
   "cell_type": "code",
   "execution_count": 34,
   "id": "876d4bc4",
   "metadata": {},
   "outputs": [],
   "source": [
    "### Create an equally weighted portfolio and find total portfolio expected return and standard deviation\n",
    "portfolio_value = 1000000\n",
    "weights = np.array([1/len(tickers)]*len(tickers))\n",
    "portfolio_expected_return = expected_return(weights, log_returns)\n",
    "portfolio_std_dev = standard_deviation (weights, cov_matrix)"
   ]
  },
  {
   "cell_type": "code",
   "execution_count": 35,
   "id": "2769e787",
   "metadata": {},
   "outputs": [],
   "source": [
    "##Defining Functions for Monte Carlo Simulation\n",
    "def random_z_score():\n",
    "    return np.random.normal(0, 1)\n",
    "\n",
    "### Create a function to calculate scenarioGainLoss\n",
    "days = 20\n",
    "\n",
    "def scenario_gain_loss(portfolio_value, portfolio_std_dev, z_score, days):\n",
    "    return portfolio_value * portfolio_expected_return * days + portfolio_value * portfolio_std_dev * z_score * np.sqrt(days)"
   ]
  },
  {
   "cell_type": "code",
   "execution_count": 36,
   "id": "0733cf75",
   "metadata": {},
   "outputs": [],
   "source": [
    "### Run 10000 simulations\n",
    "simulations = 10000\n",
    "scenarioReturn = []\n",
    "\n",
    "for i in range(simulations):\n",
    "    z_score = random_z_score()\n",
    "    scenarioReturn.append(scenario_gain_loss(portfolio_value, portfolio_std_dev, z_score, days))"
   ]
  },
  {
   "cell_type": "code",
   "execution_count": 37,
   "id": "b8856a50",
   "metadata": {},
   "outputs": [
    {
     "name": "stdout",
     "output_type": "stream",
     "text": [
      "67183.60808399868\n"
     ]
    }
   ],
   "source": [
    "### Specify a confidence interval and calculate the Value at Risk (VaR)\n",
    "confidence_interval = 0.99\n",
    "VaR = -np.percentile(scenarioReturn, 100 * (1 - confidence_interval))\n",
    "print(VaR)"
   ]
  },
  {
   "cell_type": "code",
   "execution_count": 38,
   "id": "5ef429e8",
   "metadata": {},
   "outputs": [
    {
     "data": {
      "image/png": "[encoded data removed]",
      "text/plain": [
       "<Figure size 432x288 with 1 Axes>"
      ]
     },
     "metadata": {
      "needs_background": "light"
     },
     "output_type": "display_data"
    }
   ],
   "source": [
    "### Plot the results of all 10000 scenarios\n",
    "plt.hist(scenarioReturn, bins=50, density=True)\n",
    "plt.xlabel('Scenario Gain/Loss ($)')\n",
    "plt.ylabel('Frequency')\n",
    "plt.title(f'Distribution of Portfolio Gain/Loss Over {days} Days')\n",
    "plt.axvline(-VaR, color='r', linestyle='dashed', linewidth=2, label=f'VaR at {confidence_interval:.0%} confidence level')\n",
    "plt.legend()\n",
    "plt.show()"
   ]
  },
  {
   "cell_type": "markdown",
   "id": "6203afed",
   "metadata": {},
   "source": [
    "# 3) Historical Level"
   ]
  },
  {
   "cell_type": "code",
   "execution_count": 39,
   "id": "d521317f",
   "metadata": {},
   "outputs": [
    {
     "name": "stdout",
     "output_type": "stream",
     "text": [
      "Date\n",
      "2010-07-27   -0.003959\n",
      "2010-07-28   -0.003489\n",
      "2010-07-29   -0.002374\n",
      "2010-07-30    0.002997\n",
      "2010-08-02    0.012485\n",
      "                ...   \n",
      "2025-07-14    0.000801\n",
      "2025-07-15   -0.003167\n",
      "2025-07-16    0.003009\n",
      "2025-07-17    0.003750\n",
      "2025-07-18    0.000400\n",
      "Length: 3768, dtype: float64\n"
     ]
    }
   ],
   "source": [
    "historical_returns = (log_returns * weights).sum(axis =1)\n",
    "print(historical_returns)"
   ]
  },
  {
   "cell_type": "code",
   "execution_count": 40,
   "id": "ac2c0f2b",
   "metadata": {},
   "outputs": [
    {
     "name": "stdout",
     "output_type": "stream",
     "text": [
      "Date\n",
      "2010-10-05    0.061379\n",
      "2010-10-06    0.065087\n",
      "2010-10-07    0.066934\n",
      "2010-10-08    0.074874\n",
      "2010-10-11    0.073330\n",
      "                ...   \n",
      "2025-07-14    0.083498\n",
      "2025-07-15    0.079836\n",
      "2025-07-16    0.074496\n",
      "2025-07-17    0.076112\n",
      "2025-07-18    0.075722\n",
      "Length: 3719, dtype: float64\n"
     ]
    }
   ],
   "source": [
    "days = 50\n",
    "\n",
    "range_returns = historical_returns.rolling(window = days).sum()\n",
    "range_returns = range_returns.dropna()\n",
    "print(range_returns)"
   ]
  },
  {
   "cell_type": "code",
   "execution_count": 41,
   "id": "fce8708a",
   "metadata": {},
   "outputs": [
    {
     "name": "stdout",
     "output_type": "stream",
     "text": [
      "109875.93315453162\n"
     ]
    }
   ],
   "source": [
    "confidence_interval = 0.99\n",
    "\n",
    "VaR = -np.percentile(range_returns, 100 - (confidence_interval * 100))*portfolio_value\n",
    "print(VaR)"
   ]
  },
  {
   "cell_type": "code",
   "execution_count": 42,
   "id": "ac540bf3",
   "metadata": {},
   "outputs": [
    {
     "data": {
      "image/png": "[encoded data removed]",
      "text/plain": [
       "<Figure size 432x288 with 1 Axes>"
      ]
     },
     "metadata": {
      "needs_background": "light"
     },
     "output_type": "display_data"
    }
   ],
   "source": [
    "return_window = days\n",
    "range_returns = historical_returns.rolling(window=return_window).sum()\n",
    "range_returns = range_returns.dropna()\n",
    "\n",
    "range_returns_dollar = range_returns * portfolio_value\n",
    "\n",
    "plt.hist(range_returns_dollar.dropna(), bins=50, density=True)\n",
    "plt.xlabel(f'{return_window}-Day Portfolio Return (Dollar Value)')\n",
    "plt.ylabel('Frequency')\n",
    "plt.title(f'Distribution of Portfolio {return_window}-Day Returns (Dollar Value)')\n",
    "plt.axvline(-VaR, color='r', linestyle='dashed', linewidth=2, label=f'VaR at {confidence_interval:.0%} confidence level')\n",
    "plt.legend()\n",
    "plt.show()"
   ]
  },
  {
   "cell_type": "code",
   "execution_count": null,
   "id": "b2e877e5",
   "metadata": {},
   "outputs": [],
   "source": []
  }
 ],
 "metadata": {
  "kernelspec": {
   "display_name": "Python 3 (ipykernel)",
   "language": "python",
   "name": "python3"
  },
  "language_info": {
   "codemirror_mode": {
    "name": "ipython",
    "version": 3
   },
   "file_extension": ".py",
   "mimetype": "text/x-python",
   "name": "python",
   "nbconvert_exporter": "python",
   "pygments_lexer": "ipython3",
   "version": "3.9.7"
  }
 },
 "nbformat": 4,
 "nbformat_minor": 5
}
